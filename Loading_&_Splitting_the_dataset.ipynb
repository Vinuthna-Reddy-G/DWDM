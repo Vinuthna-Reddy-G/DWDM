{
  "nbformat": 4,
  "nbformat_minor": 0,
  "metadata": {
    "colab": {
      "provenance": [],
      "authorship_tag": "ABX9TyM96+Oc6bB5vaSvcf5yvyO3",
      "include_colab_link": true
    },
    "kernelspec": {
      "name": "python3",
      "display_name": "Python 3"
    },
    "language_info": {
      "name": "python"
    }
  },
  "cells": [
    {
      "cell_type": "markdown",
      "metadata": {
        "id": "view-in-github",
        "colab_type": "text"
      },
      "source": [
        "<a href=\"https://colab.research.google.com/github/Vinuthna-Reddy-G/DWDM/blob/main/Loading_%26_Splitting_the_dataset.ipynb\" target=\"_parent\"><img src=\"https://colab.research.google.com/assets/colab-badge.svg\" alt=\"Open In Colab\"/></a>"
      ]
    },
    {
      "cell_type": "markdown",
      "source": [
        "Importing the pandas library"
      ],
      "metadata": {
        "id": "1tJtrTisbXdm"
      }
    },
    {
      "cell_type": "code",
      "execution_count": null,
      "metadata": {
        "id": "7lbc-A68W_Fl"
      },
      "outputs": [],
      "source": [
        "import pandas as pd"
      ]
    },
    {
      "cell_type": "markdown",
      "source": [
        "Loading the dataset"
      ],
      "metadata": {
        "id": "BSo9aef7bCSd"
      }
    },
    {
      "cell_type": "code",
      "source": [
        "data = pd.read_csv('winequality-red.csv')\n",
        "data.head()"
      ],
      "metadata": {
        "id": "xIQy8ilvYgPW"
      },
      "execution_count": null,
      "outputs": []
    },
    {
      "cell_type": "markdown",
      "source": [
        "Identifying the dependent and independent variables"
      ],
      "metadata": {
        "id": "aCQcvyDLbjxW"
      }
    },
    {
      "cell_type": "code",
      "source": [
        "Independent_variables = data.drop('quality', axis=1)\n",
        "Dependent_variables = data['quality']\n",
        "print(Independent_variables)"
      ],
      "metadata": {
        "id": "U6CpWELPZ_Qa"
      },
      "execution_count": null,
      "outputs": []
    },
    {
      "cell_type": "markdown",
      "source": [
        "Dealing with missing data"
      ],
      "metadata": {
        "id": "9Rh2TXLnbq_9"
      }
    },
    {
      "cell_type": "code",
      "source": [
        "missing_values = data.isnull().sum()\n",
        "print(missing_values)"
      ],
      "metadata": {
        "id": "DCf1-3DeaGTP"
      },
      "execution_count": null,
      "outputs": []
    },
    {
      "cell_type": "markdown",
      "source": [
        "Checking the presence of categorical_data"
      ],
      "metadata": {
        "id": "PfD8hB3NdnhQ"
      }
    },
    {
      "cell_type": "code",
      "source": [
        "categorical_columns = data.select_dtypes(include=['object']).columns\n",
        "print(categorical_columns)"
      ],
      "metadata": {
        "colab": {
          "base_uri": "https://localhost:8080/"
        },
        "id": "GHiIuDy5c6vO",
        "outputId": "c6a8345e-1436-40ed-c31d-04746c27a43c"
      },
      "execution_count": null,
      "outputs": [
        {
          "output_type": "stream",
          "name": "stdout",
          "text": [
            "Index([], dtype='object')\n"
          ]
        }
      ]
    },
    {
      "cell_type": "markdown",
      "source": [
        "Splitting the data into training data and testing data"
      ],
      "metadata": {
        "id": "JqAirvzoh8kU"
      }
    },
    {
      "cell_type": "code",
      "source": [
        "from sklearn.model_selection import train_test_split"
      ],
      "metadata": {
        "id": "NQTEbDbtiVkE"
      },
      "execution_count": null,
      "outputs": []
    },
    {
      "cell_type": "code",
      "source": [
        " X_train, X_test, y_train, y_test = train_test_split(Independent_variables, Dependent_variables, test_size=0.2,random_state=42)"
      ],
      "metadata": {
        "id": "GMPssiqOh8QF"
      },
      "execution_count": null,
      "outputs": []
    }
  ]
}